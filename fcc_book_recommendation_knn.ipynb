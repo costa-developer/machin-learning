{
  "cells": [
    {
      "cell_type": "markdown",
      "metadata": {
        "id": "view-in-github",
        "colab_type": "text"
      },
      "source": [
        "<a href=\"https://colab.research.google.com/github/costa-developer/machin-learning/blob/main/fcc_book_recommendation_knn.ipynb\" target=\"_parent\"><img src=\"https://colab.research.google.com/assets/colab-badge.svg\" alt=\"Open In Colab\"/></a>"
      ]
    },
    {
      "cell_type": "code",
      "execution_count": null,
      "metadata": {
        "id": "Y1onB6kUvo4Z"
      },
      "outputs": [],
      "source": [
        "# import libraries (you may add additional imports but you may not have to)\n",
        "import numpy as np\n",
        "import pandas as pd\n",
        "from scipy.sparse import csr_matrix\n",
        "from sklearn.neighbors import NearestNeighbors\n",
        "import matplotlib.pyplot as plt\n"
      ]
    },
    {
      "cell_type": "code",
      "execution_count": 14,
      "metadata": {
        "id": "iAQGqqO_vo4d",
        "colab": {
          "base_uri": "https://localhost:8080/"
        },
        "outputId": "9abcac5e-d393-43ae-a9f4-81fc5488705c"
      },
      "outputs": [
        {
          "output_type": "stream",
          "name": "stdout",
          "text": [
            "--2025-08-24 12:23:29--  https://cdn.freecodecamp.org/project-data/books/book-crossings.zip\n",
            "Resolving cdn.freecodecamp.org (cdn.freecodecamp.org)... 104.26.3.33, 172.67.70.149, 104.26.2.33, ...\n",
            "Connecting to cdn.freecodecamp.org (cdn.freecodecamp.org)|104.26.3.33|:443... connected.\n",
            "HTTP request sent, awaiting response... 200 OK\n",
            "Length: 26085508 (25M) [application/zip]\n",
            "Saving to: ‘book-crossings.zip.1’\n",
            "\n",
            "book-crossings.zip. 100%[===================>]  24.88M  --.-KB/s    in 0.1s    \n",
            "\n",
            "2025-08-24 12:23:29 (244 MB/s) - ‘book-crossings.zip.1’ saved [26085508/26085508]\n",
            "\n",
            "Archive:  book-crossings.zip\n",
            "replace BX-Book-Ratings.csv? [y]es, [n]o, [A]ll, [N]one, [r]ename: tendai\n",
            "error:  invalid response [tendai]\n",
            "replace BX-Book-Ratings.csv? [y]es, [n]o, [A]ll, [N]one, [r]ename: "
          ]
        }
      ],
      "source": [
        "# get data files\n",
        "!wget https://cdn.freecodecamp.org/project-data/books/book-crossings.zip\n",
        "\n",
        "!unzip book-crossings.zip\n",
        "\n",
        "books_filename = 'BX-Books.csv'\n",
        "ratings_filename = 'BX-Book-Ratings.csv'\n"
      ]
    },
    {
      "cell_type": "code",
      "source": [],
      "metadata": {
        "id": "TR-bAwgaCkWI"
      },
      "execution_count": null,
      "outputs": []
    },
    {
      "cell_type": "code",
      "execution_count": null,
      "metadata": {
        "id": "NClILWOiEd6Q"
      },
      "outputs": [],
      "source": [
        "# import csv data into dataframes\n",
        "df_books = pd.read_csv(\n",
        "    books_filename,\n",
        "    encoding = \"ISO-8859-1\",\n",
        "    sep=\";\",\n",
        "    header=0,\n",
        "    names=['isbn', 'title', 'author'],\n",
        "    usecols=['isbn', 'title', 'author'],\n",
        "    dtype={'isbn': 'str', 'title': 'str', 'author': 'str'})\n",
        "\n",
        "df_ratings = pd.read_csv(\n",
        "    ratings_filename,\n",
        "    encoding = \"ISO-8859-1\",\n",
        "    sep=\";\",\n",
        "    header=0,\n",
        "    names=['user', 'isbn', 'rating'],\n",
        "    usecols=['user', 'isbn', 'rating'],\n",
        "    dtype={'user': 'int32', 'isbn': 'str', 'rating': 'float32'})\n"
      ]
    },
    {
      "cell_type": "code",
      "execution_count": null,
      "metadata": {
        "id": "xAcXjkCFCh0A"
      },
      "outputs": [],
      "source": [
        "# --- Clean book fields ---\n",
        "df_books['title'] = df_books['title'].str.strip()\n",
        "df_books['author'] = df_books['author'].str.strip()\n",
        "\n",
        "# --- Keep explicit ratings only (ignore 0) ---\n",
        "df_ratings = df_ratings[df_ratings['rating'] > 0].copy()\n",
        "\n",
        "# --- Start with target thresholds ---\n",
        "USER_MIN_RATINGS = 200\n",
        "BOOK_MIN_RATINGS = 100\n",
        "\n",
        "# --- Function to filter with given thresholds ---\n",
        "def filter_data(user_min=200, book_min=100):\n",
        "    df_temp = df_ratings.copy()\n",
        "\n",
        "    # filter active users\n",
        "    active_user_counts = df_temp['user'].value_counts()\n",
        "    active_users = active_user_counts[active_user_counts >= user_min].index\n",
        "    df_temp = df_temp[df_temp['user'].isin(active_users)]\n",
        "\n",
        "    # filter popular books\n",
        "    book_counts = df_temp['isbn'].value_counts()\n",
        "    popular_books = book_counts[book_counts >= book_min].index\n",
        "    df_temp = df_temp[df_temp['isbn'].isin(popular_books)]\n",
        "\n",
        "    return df_temp\n",
        "\n",
        "# --- Try filtering with decreasing thresholds until non-empty ---\n",
        "final_df = None\n",
        "for u_thresh, b_thresh in [(200,100), (100,50), (50,50), (20,20)]:\n",
        "    df_try = filter_data(user_min=u_thresh, book_min=b_thresh)\n",
        "    if len(df_try) > 0 and df_try['isbn'].nunique() > 0 and df_try['user'].nunique() > 0:\n",
        "        print(f\"Using thresholds: users >= {u_thresh}, books >= {b_thresh}\")\n",
        "        final_df = df_try\n",
        "        break\n",
        "\n",
        "if final_df is None:\n",
        "    raise ValueError(\"No data left even after relaxing thresholds!\")\n",
        "\n",
        "df = final_df.merge(df_books, on='isbn', how='inner')\n",
        "print(\"Final ratings:\", len(df))\n",
        "print(\"Unique users:\", df['user'].nunique())\n",
        "print(\"Unique books:\", df['isbn'].nunique())\n"
      ]
    },
    {
      "cell_type": "code",
      "source": [
        "# Build indices for rows (books/ISBN) and columns (users)\n",
        "isbn_cat = pd.Categorical(df['isbn'])\n",
        "user_cat = pd.Categorical(df['user'])\n",
        "\n",
        "row_ind = isbn_cat.codes           # book rows\n",
        "col_ind = user_cat.codes           # user cols\n",
        "data_vals = df['rating'].astype(np.float32).values\n",
        "\n",
        "# Sparse matrix: rows = books (ISBN), cols = users\n",
        "item_user_matrix = csr_matrix((data_vals, (row_ind, col_ind)),\n",
        "                              shape=(len(isbn_cat.categories), len(user_cat.categories)))\n",
        "\n",
        "# Mappings for lookups\n",
        "isbn_index_to_isbn = pd.Series(isbn_cat.categories)\n",
        "isbn_to_title = df_books.drop_duplicates('isbn').set_index('isbn')['title']\n",
        "\n",
        "# Build a stable mapping from title -> a representative ISBN.\n",
        "# For duplicates, pick the first ISBN occurrence found in df_books.\n",
        "title_to_isbn = (df_books\n",
        "                 .dropna(subset=['title', 'isbn'])\n",
        "                 .drop_duplicates(subset=['title'], keep='first')\n",
        "                 .set_index('title')['isbn'])\n"
      ],
      "metadata": {
        "id": "F9AuK2EhAmBS"
      },
      "execution_count": null,
      "outputs": []
    },
    {
      "cell_type": "code",
      "source": [
        "# Fit KNN on the item-user matrix\n",
        "# Cosine distance on high-dimensional sparse vectors is a common + solid choice here\n",
        "knn_model = NearestNeighbors(metric='cosine', algorithm='brute')\n",
        "knn_model.fit(item_user_matrix)\n"
      ],
      "metadata": {
        "id": "oiuMFLpFApaN"
      },
      "execution_count": null,
      "outputs": []
    },
    {
      "cell_type": "code",
      "source": [
        "def _title_to_row_index(book_title: str):\n",
        "    \"\"\"\n",
        "    Map a book title to the row index in the item_user_matrix via representative ISBN.\n",
        "    Returns the row index if found, else raises a KeyError with a meaningful message.\n",
        "    \"\"\"\n",
        "    if book_title not in title_to_isbn.index:\n",
        "        raise KeyError(f\"Title not found in books list: {book_title}\")\n",
        "\n",
        "    isbn = title_to_isbn[book_title]\n",
        "    # Find the matrix row (using the categorical for ISBNs we built earlier)\n",
        "    try:\n",
        "        row_idx = np.where(isbn_index_to_isbn.values == isbn)[0][0]\n",
        "    except IndexError:\n",
        "        raise KeyError(f\"Title found, but its ISBN has insufficient ratings in the filtered matrix: {book_title}\")\n",
        "    return row_idx\n"
      ],
      "metadata": {
        "id": "gLqQUeN0Aufa"
      },
      "execution_count": null,
      "outputs": []
    },
    {
      "cell_type": "code",
      "source": [
        "# OPTIONAL: visualize distribution of ratings per kept book to understand sparsity\n",
        "# (This is just informational; does not affect the model/test.)\n",
        "book_counts_kept = pd.Series(item_user_matrix.getnnz(axis=1))\n",
        "plt.figure()\n",
        "plt.hist(book_counts_kept, bins=50)\n",
        "plt.title(\"Non-zero ratings per kept book (after filtering)\")\n",
        "plt.xlabel(\"Count of ratings\")\n",
        "plt.ylabel(\"Number of books\")\n",
        "plt.show()\n"
      ],
      "metadata": {
        "id": "AHmL7JYrA3Qf"
      },
      "execution_count": null,
      "outputs": []
    },
    {
      "cell_type": "code",
      "execution_count": null,
      "metadata": {
        "id": "f5ZUd-L1SQz7"
      },
      "outputs": [],
      "source": [
        "# function to return recommended books - this will be tested\n",
        "def get_recommends(book = \"\"):\n",
        "    \"\"\"\n",
        "    Given a book title (string), return:\n",
        "      [ book_title,\n",
        "        [ [rec_title_1, distance_1],\n",
        "          [rec_title_2, distance_2],\n",
        "          ...\n",
        "          [rec_title_5, distance_5] ] ]\n",
        "    Distances are cosine distances from sklearn.neighbors.NearestNeighbors.kneighbors.\n",
        "    \"\"\"\n",
        "    # 1) locate the query book row\n",
        "    row_idx = _title_to_row_index(book)\n",
        "\n",
        "    # 2) query k=6 (the first neighbor is the book itself)\n",
        "    distances, indices = knn_model.kneighbors(item_user_matrix[row_idx], n_neighbors=6)\n",
        "\n",
        "    distances = distances.flatten().tolist()\n",
        "    indices = indices.flatten().tolist()\n",
        "\n",
        "    # 3) Skip the first neighbor (self), then map neighbor rows → titles\n",
        "    recs = []\n",
        "    for dist, idx in zip(distances[1:], indices[1:]):\n",
        "        isbn_neighbor = isbn_index_to_isbn.iloc[idx]\n",
        "        title_neighbor = isbn_to_title.get(isbn_neighbor, \"Unknown Title\")\n",
        "        recs.append([title_neighbor, float(dist)])\n",
        "\n",
        "    # 4) ensure exactly 5 recommendations (kneighbors returns k=6 including self)\n",
        "    recs = recs[:5]\n",
        "\n",
        "    recommended_books = [book, recs]\n",
        "    return recommended_books\n"
      ]
    },
    {
      "cell_type": "code",
      "execution_count": null,
      "metadata": {
        "id": "jd2SLCh8oxMh"
      },
      "outputs": [],
      "source": [
        "books = get_recommends(\"Where the Heart Is (Oprah's Book Club (Paperback))\")\n",
        "print(books)\n",
        "\n",
        "def test_book_recommendation():\n",
        "  test_pass = True\n",
        "  recommends = get_recommends(\"Where the Heart Is (Oprah's Book Club (Paperback))\")\n",
        "  if recommends[0] != \"Where the Heart Is (Oprah's Book Club (Paperback))\":\n",
        "    test_pass = False\n",
        "  recommended_books = [\"I'll Be Seeing You\", 'The Weight of Water', 'The Surgeon', 'I Know This Much Is True']\n",
        "  recommended_books_dist = [0.8, 0.77, 0.77, 0.77]\n",
        "  for i in range(2):\n",
        "    if recommends[1][i][0] not in recommended_books:\n",
        "      test_pass = False\n",
        "    if abs(recommends[1][i][1] - recommended_books_dist[i]) >= 0.05:\n",
        "      test_pass = False\n",
        "  if test_pass:\n",
        "    print(\"You passed the challenge! 🎉🎉🎉🎉🎉\")\n",
        "  else:\n",
        "    print(\"You haven't passed yet. Keep trying!\")\n",
        "\n",
        "test_book_recommendation()"
      ]
    }
  ],
  "metadata": {
    "colab": {
      "name": "fcc_book_recommendation_knn.ipynb",
      "provenance": [],
      "include_colab_link": true
    },
    "kernelspec": {
      "display_name": "Python 3",
      "language": "python",
      "name": "python3"
    },
    "language_info": {
      "codemirror_mode": {
        "name": "ipython",
        "version": 3
      },
      "file_extension": ".py",
      "mimetype": "text/x-python",
      "name": "python",
      "nbconvert_exporter": "python",
      "pygments_lexer": "ipython3",
      "version": "3.6.5"
    }
  },
  "nbformat": 4,
  "nbformat_minor": 0
}